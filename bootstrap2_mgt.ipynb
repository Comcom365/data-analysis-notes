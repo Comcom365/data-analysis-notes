{
 "cells": [
  {
   "cell_type": "markdown",
   "id": "4e813b8b",
   "metadata": {},
   "source": [
    "Bootstrap\n",
    "- для сравнения двух групп, оценка есть ли статистически значимые различия между двумя группами;\n",
    "- вычисление p-value и квантилей;\n",
    "- визуализация данных, построение гистограммы"
   ]
  },
  {
   "cell_type": "code",
   "execution_count": 30,
   "id": "0b6589c9",
   "metadata": {},
   "outputs": [],
   "source": [
    "import numpy as np\n",
    "import pandas as pd\n",
    "from scipy.stats import norm\n",
    "import matplotlib.pyplot as plt\n",
    "from tqdm import tqdm"
   ]
  },
  {
   "cell_type": "code",
   "execution_count": 31,
   "id": "622f2ca9",
   "metadata": {
    "scrolled": true
   },
   "outputs": [],
   "source": [
    "def get_bootstrap2(\n",
    "    data_column_1,  # числовые значения первой выборки\n",
    "    data_column_2,  # числовые значения второй выборки\n",
    "    boot_it = 1000,  # количество бутстрэп-подвыборок\n",
    "    statistic = np.mean,  # интересующее нас значение\n",
    "    bootstrap_conf_level = 0.95  # уровень значимости\n",
    "):\n",
    "    boot_data = np.empty(boot_it)  # Создаем пустой массив для бутстрэп-подвыборок\n",
    "    len_data_1 = len(data_column_1)  # Вычисляем длину первой выборки\n",
    "    \n",
    "    for i in tqdm(range(boot_it)):  # извлекаем подвыборки\n",
    "        samples_1 = data_column_1.sample(len_data_1, replace=True).values  # Создаем подвыборку 1\n",
    "        samples_2 = data_column_2.sample(len_data_1, replace=True).values  # Создаем подвыборку 2\n",
    "        boot_data[i] = statistic(samples_1) - statistic(samples_2)  # Вычисляем статистику для подвыборок и сохраняем разницу\n",
    "    \n",
    "    left_quant = (1 - bootstrap_conf_level) / 2  # Вычисляем левый квантиль\n",
    "    right_quant = 1 - left_quant                 # Вычисляем правый квантиль\n",
    "    quants = np.quantile(boot_data, [left_quant, right_quant])  # Вычисляем квантили бутстрэп-подвыборок\n",
    "    \n",
    "    boot_data_mean = np.mean(boot_data)  # Вычисляем среднее значение бутстрэп-подвыборок\n",
    "    boot_data_std = np.std(boot_data)    # Вычисляем стандартное отклонение бутстрэп-подвыборок\n",
    "    \n",
    "    p_value = 2 * min(  # Вычисляем p-value для проверки гипотезы\n",
    "        norm.cdf(0, loc=boot_data_mean, scale=boot_data_std),  # Вероятность получить значение меньше 0\n",
    "        norm.cdf(0, loc=-boot_data_mean, scale=boot_data_std)  # Вероятность получить значение больше 0\n",
    "    )\n",
    "    \n",
    "    # Визуализация, построим гистограмму бутстрэп-подвыборок\n",
    "    plt.hist(boot_data, bins=50, color='grey', edgecolor='black')\n",
    "    plt.axvline(quants[0], color='red', linestyle='--', label=f'Lower quantile ({left_quant:.2f}): {quants[0]:.4f}')  # Линия для левого квантиля\n",
    "    plt.axvline(quants[1], color='red', linestyle='--', label=f'Upper quantile ({right_quant:.2f}): {quants[1]:.4f}')  # Линия для правого квантиля\n",
    "    plt.title('Histogram of boot_data')\n",
    "    plt.xlabel('boot_data')\n",
    "    plt.ylabel('frequency')\n",
    "    plt.show()\n",
    "    \n",
    "    return {\n",
    "        'quants': quants,      # Возвращаем квантили\n",
    "        'p_value': p_value,    # Возвращаем p-value\n",
    "        'boot_data': boot_data # Возвращаем массив бутстрэп-подвыборок\n",
    "    }"
   ]
  },
  {
   "cell_type": "code",
   "execution_count": 32,
   "id": "89ed9e36",
   "metadata": {},
   "outputs": [
    {
     "name": "stderr",
     "output_type": "stream",
     "text": [
      "100%|████████████████████████████████████████████████████████████████████████████| 1000/1000 [00:00<00:00, 7938.66it/s]\n"
     ]
    },
    {
     "data": {
      "image/png": "[encoded data removed]",
      "text/plain": [
       "<Figure size 640x480 with 1 Axes>"
      ]
     },
     "metadata": {},
     "output_type": "display_data"
    },
    {
     "name": "stdout",
     "output_type": "stream",
     "text": [
      "95% доверительный интервал: [-0.10546664  0.15060106]\n",
      "p-value: 0.6357555655497522\n"
     ]
    }
   ],
   "source": [
    "# Пример использования 1\n",
    "df1 = pd.DataFrame({'col1': np.random.randn(500), 'col2': np.random.randn(500)})\n",
    "res1 = get_bootstrap2(df1.col1, df1.col2, boot_it = 1000, statistic = np.mean, bootstrap_conf_level = 0.95)\n",
    "\n",
    "print(f\"95% доверительный интервал: {res1['quants']}\")\n",
    "print(f\"p-value: {res1['p_value']}\")"
   ]
  },
  {
   "cell_type": "code",
   "execution_count": null,
   "id": "bb4b47a3",
   "metadata": {},
   "outputs": [],
   "source": []
  }
 ],
 "metadata": {
  "kernelspec": {
   "display_name": "Python 3 (ipykernel)",
   "language": "python",
   "name": "python3"
  },
  "language_info": {
   "codemirror_mode": {
    "name": "ipython",
    "version": 3
   },
   "file_extension": ".py",
   "mimetype": "text/x-python",
   "name": "python",
   "nbconvert_exporter": "python",
   "pygments_lexer": "ipython3",
   "version": "3.11.1"
  }
 },
 "nbformat": 4,
 "nbformat_minor": 5
}
