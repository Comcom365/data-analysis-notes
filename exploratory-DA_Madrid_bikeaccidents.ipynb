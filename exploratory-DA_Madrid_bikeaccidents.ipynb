{
 "cells": [
  {
   "cell_type": "markdown",
   "id": "7511309f",
   "metadata": {},
   "source": [
    "Проведем exploratory data analysis с датасетом дорожно-транспортных проишествий с участием велосипедистов, ссылка на городской портал г. Мадрида, Испания\n",
    "\n",
    "https://datos.madrid.es/portal/site/egob/menuitem.c05c1f754a33a9fbe4b2e4b284f1a5a0/?vgnextoid=20f4a87ebb65b510VgnVCM1000001d4a900aRCRD&vgnextchannel=374512b9ace9f310VgnVCM100000171f5a0aRCRD&vgnextfmt=default"
   ]
  },
  {
   "cell_type": "code",
   "execution_count": 8,
   "id": "1838cf9e",
   "metadata": {},
   "outputs": [],
   "source": [
    "import pandas as pd\n",
    "import numpy as np\n",
    "\n",
    "import seaborn as sns\n",
    "import matplotlib.pyplot as plt\n",
    "%matplotlib inline"
   ]
  },
  {
   "cell_type": "code",
   "execution_count": 9,
   "id": "0b9fa75b",
   "metadata": {},
   "outputs": [],
   "source": [
    "df_22 = pd.read_csv('C:/Users/mgtqw/data-analysis-notes/df_AccidentesBicicletas_2022.csv', sep = ';')\n",
    "df_23 = pd.read_csv('C:/Users/mgtqw/data-analysis-notes/df_AccidentesBicicletas_2023.csv', sep = ';')\n",
    "df_24 = pd.read_csv('C:/Users/mgtqw/data-analysis-notes/df_AccidentesBicicletas_2024.csv', sep = ';')\n",
    "df = pd.concat([df_22, df_23, df_24], axis = 0)"
   ]
  },
  {
   "cell_type": "code",
   "execution_count": 10,
   "id": "2ab9c554",
   "metadata": {
    "scrolled": false
   },
   "outputs": [
    {
     "data": {
      "text/plain": [
       "Index(['num_expediente', 'fecha', 'hora', 'localizacion', 'numero',\n",
       "       'cod_distrito', 'distrito', 'tipo_accidente', 'estado_meteorológico',\n",
       "       'tipo_vehiculo', 'tipo_persona', 'rango_edad', 'sexo', 'cod_lesividad',\n",
       "       'lesividad', 'coordenada_x_utm', 'coordenada_y_utm', 'positiva_alcohol',\n",
       "       'positiva_droga'],\n",
       "      dtype='object')"
      ]
     },
     "execution_count": 10,
     "metadata": {},
     "output_type": "execute_result"
    }
   ],
   "source": [
    "df.columns"
   ]
  },
  {
   "cell_type": "code",
   "execution_count": 11,
   "id": "55d06ae0",
   "metadata": {},
   "outputs": [],
   "source": [
    "# Переведем названия колонок на англ для удобства обращения\n",
    "df = df.rename(columns={\n",
    "    'num_expediente': 'case_number',\n",
    "    'fecha': 'date',\n",
    "    'hora': 'time',\n",
    "    'localizacion': 'location',\n",
    "    'numero': 'number',\n",
    "    'cod_distrito': 'district_code',\n",
    "    'distrito': 'district',\n",
    "    'tipo_accidente': 'accident_type',\n",
    "    'estado_meteorológico': 'weather_condition',\n",
    "    'tipo_vehiculo': 'vehicle_type',\n",
    "    'tipo_persona': 'person_type',\n",
    "    'rango_edad': 'age_range',\n",
    "    'sexo': 'gender',\n",
    "    'cod_lesividad': 'severity_code',\n",
    "    'lesividad': 'severity',\n",
    "    'coordenada_x_utm': 'coord_x_utm',\n",
    "    'coordenada_y_utm': 'coord_y_utm',\n",
    "    'positiva_alcohol': 'positive_alcohol',\n",
    "    'positiva_droga': 'positive_drug'\n",
    "    })"
   ]
  },
  {
   "cell_type": "code",
   "execution_count": 26,
   "id": "540a2a79",
   "metadata": {
    "scrolled": false
   },
   "outputs": [
    {
     "data": {
      "text/html": [
       "<div>\n",
       "<style scoped>\n",
       "    .dataframe tbody tr th:only-of-type {\n",
       "        vertical-align: middle;\n",
       "    }\n",
       "\n",
       "    .dataframe tbody tr th {\n",
       "        vertical-align: top;\n",
       "    }\n",
       "\n",
       "    .dataframe thead th {\n",
       "        text-align: right;\n",
       "    }\n",
       "</style>\n",
       "<table border=\"1\" class=\"dataframe\">\n",
       "  <thead>\n",
       "    <tr style=\"text-align: right;\">\n",
       "      <th></th>\n",
       "      <th>case_number</th>\n",
       "      <th>date</th>\n",
       "      <th>time</th>\n",
       "      <th>location</th>\n",
       "      <th>number</th>\n",
       "      <th>district_code</th>\n",
       "      <th>district</th>\n",
       "      <th>accident_type</th>\n",
       "      <th>weather_condition</th>\n",
       "      <th>vehicle_type</th>\n",
       "      <th>person_type</th>\n",
       "      <th>age_range</th>\n",
       "      <th>gender</th>\n",
       "      <th>severity_code</th>\n",
       "      <th>severity</th>\n",
       "      <th>coord_x_utm</th>\n",
       "      <th>coord_y_utm</th>\n",
       "      <th>positive_alcohol</th>\n",
       "      <th>positive_drug</th>\n",
       "    </tr>\n",
       "  </thead>\n",
       "  <tbody>\n",
       "    <tr>\n",
       "      <th>0</th>\n",
       "      <td>2022S000034</td>\n",
       "      <td>02/01/2022</td>\n",
       "      <td>0:05:00</td>\n",
       "      <td>CALL. MARIA TERESA SAENZ DE HEREDIA, 6</td>\n",
       "      <td>6</td>\n",
       "      <td>15</td>\n",
       "      <td>CIUDAD LINEAL</td>\n",
       "      <td>Caída</td>\n",
       "      <td>Despejado</td>\n",
       "      <td>Bicicleta EPAC (pedaleo asistido)</td>\n",
       "      <td>Conductor</td>\n",
       "      <td>De 25 a 29 años</td>\n",
       "      <td>Hombre</td>\n",
       "      <td>7.0</td>\n",
       "      <td>Asistencia sanitaria sólo en el lugar del acci...</td>\n",
       "      <td>444.462.918</td>\n",
       "      <td>4.474.808.752</td>\n",
       "      <td>S</td>\n",
       "      <td>NaN</td>\n",
       "    </tr>\n",
       "    <tr>\n",
       "      <th>1</th>\n",
       "      <td>2022S000290</td>\n",
       "      <td>05/01/2022</td>\n",
       "      <td>10:45:00</td>\n",
       "      <td>PASEO. MARQUES DE MONISTROL / GTA. PUENTE DE S...</td>\n",
       "      <td>1</td>\n",
       "      <td>10</td>\n",
       "      <td>LATINA</td>\n",
       "      <td>Colisión fronto-lateral</td>\n",
       "      <td>Se desconoce</td>\n",
       "      <td>Bicicleta EPAC (pedaleo asistido)</td>\n",
       "      <td>Conductor</td>\n",
       "      <td>De 25 a 29 años</td>\n",
       "      <td>Mujer</td>\n",
       "      <td>7.0</td>\n",
       "      <td>Asistencia sanitaria sólo en el lugar del acci...</td>\n",
       "      <td>438.584.377</td>\n",
       "      <td>4.473.973.210</td>\n",
       "      <td>N</td>\n",
       "      <td>NaN</td>\n",
       "    </tr>\n",
       "  </tbody>\n",
       "</table>\n",
       "</div>"
      ],
      "text/plain": [
       "   case_number        date      time  \\\n",
       "0  2022S000034  02/01/2022   0:05:00   \n",
       "1  2022S000290  05/01/2022  10:45:00   \n",
       "\n",
       "                                            location number  district_code  \\\n",
       "0             CALL. MARIA TERESA SAENZ DE HEREDIA, 6      6             15   \n",
       "1  PASEO. MARQUES DE MONISTROL / GTA. PUENTE DE S...      1             10   \n",
       "\n",
       "        district            accident_type weather_condition  \\\n",
       "0  CIUDAD LINEAL                    Caída         Despejado   \n",
       "1         LATINA  Colisión fronto-lateral      Se desconoce   \n",
       "\n",
       "                        vehicle_type person_type        age_range  gender  \\\n",
       "0  Bicicleta EPAC (pedaleo asistido)   Conductor  De 25 a 29 años  Hombre   \n",
       "1  Bicicleta EPAC (pedaleo asistido)   Conductor  De 25 a 29 años   Mujer   \n",
       "\n",
       "   severity_code                                           severity  \\\n",
       "0            7.0  Asistencia sanitaria sólo en el lugar del acci...   \n",
       "1            7.0  Asistencia sanitaria sólo en el lugar del acci...   \n",
       "\n",
       "   coord_x_utm    coord_y_utm positive_alcohol  positive_drug  \n",
       "0  444.462.918  4.474.808.752                S            NaN  \n",
       "1  438.584.377  4.473.973.210                N            NaN  "
      ]
     },
     "execution_count": 26,
     "metadata": {},
     "output_type": "execute_result"
    }
   ],
   "source": [
    "df.head(2)"
   ]
  },
  {
   "cell_type": "code",
   "execution_count": 27,
   "id": "87cd0b9b",
   "metadata": {},
   "outputs": [
    {
     "data": {
      "text/plain": [
       "case_number           object\n",
       "date                  object\n",
       "time                  object\n",
       "location              object\n",
       "number                object\n",
       "district_code          int64\n",
       "district              object\n",
       "accident_type         object\n",
       "weather_condition     object\n",
       "vehicle_type          object\n",
       "person_type           object\n",
       "age_range             object\n",
       "gender                object\n",
       "severity_code        float64\n",
       "severity              object\n",
       "coord_x_utm           object\n",
       "coord_y_utm           object\n",
       "positive_alcohol      object\n",
       "positive_drug        float64\n",
       "dtype: object"
      ]
     },
     "execution_count": 27,
     "metadata": {},
     "output_type": "execute_result"
    }
   ],
   "source": [
    "df.dtypes"
   ]
  },
  {
   "cell_type": "code",
   "execution_count": 13,
   "id": "03801f47",
   "metadata": {},
   "outputs": [
    {
     "data": {
      "text/html": [
       "<div>\n",
       "<style scoped>\n",
       "    .dataframe tbody tr th:only-of-type {\n",
       "        vertical-align: middle;\n",
       "    }\n",
       "\n",
       "    .dataframe tbody tr th {\n",
       "        vertical-align: top;\n",
       "    }\n",
       "\n",
       "    .dataframe thead th {\n",
       "        text-align: right;\n",
       "    }\n",
       "</style>\n",
       "<table border=\"1\" class=\"dataframe\">\n",
       "  <thead>\n",
       "    <tr style=\"text-align: right;\">\n",
       "      <th></th>\n",
       "      <th>district_code</th>\n",
       "      <th>severity_code</th>\n",
       "      <th>positive_drug</th>\n",
       "    </tr>\n",
       "  </thead>\n",
       "  <tbody>\n",
       "    <tr>\n",
       "      <th>count</th>\n",
       "      <td>2170.000000</td>\n",
       "      <td>1832.000000</td>\n",
       "      <td>5.0</td>\n",
       "    </tr>\n",
       "    <tr>\n",
       "      <th>mean</th>\n",
       "      <td>8.481106</td>\n",
       "      <td>5.869541</td>\n",
       "      <td>1.0</td>\n",
       "    </tr>\n",
       "    <tr>\n",
       "      <th>std</th>\n",
       "      <td>5.741782</td>\n",
       "      <td>4.002854</td>\n",
       "      <td>0.0</td>\n",
       "    </tr>\n",
       "    <tr>\n",
       "      <th>min</th>\n",
       "      <td>1.000000</td>\n",
       "      <td>1.000000</td>\n",
       "      <td>1.0</td>\n",
       "    </tr>\n",
       "    <tr>\n",
       "      <th>25%</th>\n",
       "      <td>3.000000</td>\n",
       "      <td>2.000000</td>\n",
       "      <td>1.0</td>\n",
       "    </tr>\n",
       "    <tr>\n",
       "      <th>50%</th>\n",
       "      <td>8.000000</td>\n",
       "      <td>6.000000</td>\n",
       "      <td>1.0</td>\n",
       "    </tr>\n",
       "    <tr>\n",
       "      <th>75%</th>\n",
       "      <td>13.000000</td>\n",
       "      <td>7.000000</td>\n",
       "      <td>1.0</td>\n",
       "    </tr>\n",
       "    <tr>\n",
       "      <th>max</th>\n",
       "      <td>21.000000</td>\n",
       "      <td>14.000000</td>\n",
       "      <td>1.0</td>\n",
       "    </tr>\n",
       "  </tbody>\n",
       "</table>\n",
       "</div>"
      ],
      "text/plain": [
       "       district_code  severity_code  positive_drug\n",
       "count    2170.000000    1832.000000            5.0\n",
       "mean        8.481106       5.869541            1.0\n",
       "std         5.741782       4.002854            0.0\n",
       "min         1.000000       1.000000            1.0\n",
       "25%         3.000000       2.000000            1.0\n",
       "50%         8.000000       6.000000            1.0\n",
       "75%        13.000000       7.000000            1.0\n",
       "max        21.000000      14.000000            1.0"
      ]
     },
     "execution_count": 13,
     "metadata": {},
     "output_type": "execute_result"
    }
   ],
   "source": [
    "df.describe()"
   ]
  },
  {
   "cell_type": "code",
   "execution_count": 36,
   "id": "d5679ae4",
   "metadata": {
    "scrolled": false
   },
   "outputs": [
    {
     "data": {
      "text/plain": [
       "Text(0.5, 1.0, 'Распределение типов аварий')"
      ]
     },
     "execution_count": 36,
     "metadata": {},
     "output_type": "execute_result"
    },
    {
     "data": {
      "image/png": "[encoded data removed]",
      "text/plain": [
       "<Figure size 1000x800 with 1 Axes>"
      ]
     },
     "metadata": {},
     "output_type": "display_data"
    }
   ],
   "source": [
    "# давайте посмотрим распределение типов аварий в которых учасвуют велосипедисты\n",
    "plt.figure(figsize = (10, 8))\n",
    "sns.countplot(y = 'accident_type', hue = df.positive_alcohol, data = df, order = df['accident_type'].value_counts().index)\n",
    "plt.title('Распределение типов аварий')"
   ]
  },
  {
   "cell_type": "code",
   "execution_count": 37,
   "id": "a626a9ca",
   "metadata": {},
   "outputs": [
    {
     "data": {
      "text/plain": [
       "Text(0.5, 1.0, 'Погодные условия')"
      ]
     },
     "execution_count": 37,
     "metadata": {},
     "output_type": "execute_result"
    },
    {
     "data": {
      "image/png": "[encoded data removed]",
      "text/plain": [
       "<Figure size 640x480 with 1 Axes>"
      ]
     },
     "metadata": {},
     "output_type": "display_data"
    }
   ],
   "source": [
    "# погодные условия\n",
    "sns.countplot(y = 'weather_condition', data = df, order = df['weather_condition'].value_counts().index)\n",
    "plt.title('Погодные условия')"
   ]
  },
  {
   "cell_type": "code",
   "execution_count": 38,
   "id": "71bcb8b2",
   "metadata": {},
   "outputs": [
    {
     "data": {
      "text/plain": [
       "Text(0.5, 1.0, 'Распределения по степени тяжести инцидентов')"
      ]
     },
     "execution_count": 38,
     "metadata": {},
     "output_type": "execute_result"
    },
    {
     "data": {
      "image/png": "[encoded data removed]",
      "text/plain": [
       "<Figure size 640x480 with 1 Axes>"
      ]
     },
     "metadata": {},
     "output_type": "display_data"
    }
   ],
   "source": [
    "# распределение по степени тяжести травм\n",
    "sns.countplot(y = 'severity_code', data = df, order = df['severity_code'].value_counts().index)\n",
    "plt.title('Распределения по степени тяжести инцидентов')"
   ]
  },
  {
   "cell_type": "code",
   "execution_count": null,
   "id": "082f3725",
   "metadata": {},
   "outputs": [],
   "source": []
  },
  {
   "cell_type": "code",
   "execution_count": null,
   "id": "ce38ea9c",
   "metadata": {},
   "outputs": [],
   "source": []
  },
  {
   "cell_type": "code",
   "execution_count": null,
   "id": "bd2eb8f2",
   "metadata": {},
   "outputs": [],
   "source": []
  },
  {
   "cell_type": "code",
   "execution_count": null,
   "id": "a810d456",
   "metadata": {},
   "outputs": [],
   "source": []
  },
  {
   "cell_type": "code",
   "execution_count": null,
   "id": "e8c477e6",
   "metadata": {},
   "outputs": [],
   "source": []
  },
  {
   "cell_type": "code",
   "execution_count": null,
   "id": "f44fd98a",
   "metadata": {},
   "outputs": [],
   "source": []
  },
  {
   "cell_type": "code",
   "execution_count": 18,
   "id": "0f859673",
   "metadata": {},
   "outputs": [
    {
     "data": {
      "text/plain": [
       "gender\n",
       "Hombre         1687\n",
       "Mujer           441\n",
       "Desconocido      42\n",
       "Name: count, dtype: int64"
      ]
     },
     "execution_count": 18,
     "metadata": {},
     "output_type": "execute_result"
    }
   ],
   "source": [
    "df.gender.value_counts()"
   ]
  },
  {
   "cell_type": "code",
   "execution_count": 19,
   "id": "a7cef358",
   "metadata": {},
   "outputs": [
    {
     "data": {
      "text/plain": [
       "positive_alcohol\n",
       "N    2115\n",
       "S      53\n",
       "Name: count, dtype: int64"
      ]
     },
     "execution_count": 19,
     "metadata": {},
     "output_type": "execute_result"
    }
   ],
   "source": [
    "df.positive_alcohol.value_counts()"
   ]
  },
  {
   "cell_type": "code",
   "execution_count": 20,
   "id": "056b9d50",
   "metadata": {},
   "outputs": [
    {
     "data": {
      "text/plain": [
       "person_type\n",
       "Conductor    2026\n",
       "Peatón        132\n",
       "Pasajero       12\n",
       "Name: count, dtype: int64"
      ]
     },
     "execution_count": 20,
     "metadata": {},
     "output_type": "execute_result"
    }
   ],
   "source": [
    "df.person_type.value_counts()"
   ]
  },
  {
   "cell_type": "code",
   "execution_count": null,
   "id": "75c98f5e",
   "metadata": {},
   "outputs": [],
   "source": []
  }
 ],
 "metadata": {
  "kernelspec": {
   "display_name": "Python 3 (ipykernel)",
   "language": "python",
   "name": "python3"
  },
  "language_info": {
   "codemirror_mode": {
    "name": "ipython",
    "version": 3
   },
   "file_extension": ".py",
   "mimetype": "text/x-python",
   "name": "python",
   "nbconvert_exporter": "python",
   "pygments_lexer": "ipython3",
   "version": "3.11.1"
  }
 },
 "nbformat": 4,
 "nbformat_minor": 5
}
